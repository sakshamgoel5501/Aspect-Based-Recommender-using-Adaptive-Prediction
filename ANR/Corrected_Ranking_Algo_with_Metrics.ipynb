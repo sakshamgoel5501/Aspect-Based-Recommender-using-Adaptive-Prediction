{
  "nbformat": 4,
  "nbformat_minor": 0,
  "metadata": {
    "colab": {
      "provenance": [],
      "collapsed_sections": []
    },
    "kernelspec": {
      "name": "python3",
      "display_name": "Python 3"
    },
    "language_info": {
      "name": "python"
    }
  },
  "cells": [
    {
      "cell_type": "code",
      "execution_count": 26,
      "metadata": {
        "id": "J2bcNYiDjGnr"
      },
      "outputs": [],
      "source": [
        "from pandas import DataFrame\n",
        "import pandas as pd"
      ]
    },
    {
      "cell_type": "code",
      "source": [
        "predicted_item_id= \"B004MWZLYC\"\n",
        "predicted_rating= 2.0\n",
        "\n",
        "expected_item_id= \"B000IVUL64\"\n",
        "expected_rating=4.5"
      ],
      "metadata": {
        "id": "vnHXuIJrkNWX"
      },
      "execution_count": 27,
      "outputs": []
    },
    {
      "cell_type": "code",
      "source": [
        "item_df=pd.read_csv('out.csv',sep='\\t', index_col=None)\n",
        "# item_df.columns = ['MovieID', 'Name','Rating','Genre','Details']\n",
        "# item_df = item_df.astype({'Rating':'float','Genre':'string','MovieID':'string'})\n",
        "# item_df.dropna(how='any')\n",
        "item_df = item_df.dropna()\n",
        "\n",
        "print(len(item_df))"
      ],
      "metadata": {
        "id": "3KIoKGgOkyrk",
        "colab": {
          "base_uri": "https://localhost:8080/"
        },
        "outputId": "24f4ed52-a924-4b38-f8ee-88e11517c395"
      },
      "execution_count": 28,
      "outputs": [
        {
          "output_type": "stream",
          "name": "stdout",
          "text": [
            "67\n"
          ]
        }
      ]
    },
    {
      "cell_type": "code",
      "source": [
        "item_df.head()\n",
        "print(item_df[item_df['Genre'].str.contains('Suspense')][:3])"
      ],
      "metadata": {
        "colab": {
          "base_uri": "https://localhost:8080/"
        },
        "id": "ciZdvdxj8gai",
        "outputId": "a01e7d6f-031a-4fd5-d87d-5a18ab1fb80a"
      },
      "execution_count": 29,
      "outputs": [
        {
          "output_type": "stream",
          "name": "stdout",
          "text": [
            "       MovieID           Name  Rating                             Genre  \\\n",
            "0   B004MWZLYC      Justified     4.9  Suspense, Western, Drama, Action   \n",
            "2   B000VU4GW2           Life     4.8           Suspense, Action, Drama   \n",
            "10  B009M9GI06  In Their Skin     3.9                  Suspense, Horror   \n",
            "\n",
            "                                              Details  \n",
            "0   Fresh off the epic gun battle that concluded s...  \n",
            "2   Detective Charlie Crews was framed convicted a...  \n",
            "10  A few months after the accidental death of the...  \n"
          ]
        }
      ]
    },
    {
      "cell_type": "code",
      "source": [
        "def matching_actuals_or_recommendations(predicted_item_id,predicted_rating,item_df):\n",
        "  shortlisted_item_df = pd.DataFrame(columns=item_df.columns, index=None)\n",
        "  # predicted_movie_features = item_df[item_df['MovieID']==predicted_item_id]['Genre'].tolist()\n",
        "  # # print(predicted_movie_features)\n",
        "  \n",
        "  # for pred_mov_feature in predicted_movie_features[0].split(\",\"):\n",
        "  #   # print(pred_mov_feature)\n",
        "  #   items_to_consider_df = item_df[item_df['Genre'].str.contains(pred_mov_feature, case=False)]\n",
        "  #   # print(len(items_to_consider_df))\n",
        "  #   items_to_consider_df = items_to_consider_df.drop_duplicates(subset=['Name','Rating'])\n",
        "  #   shortlisted_item_df = shortlisted_item_df.append(items_to_consider_df,ignore_index=True)\n",
        "  #   shortlisted_item_df = shortlisted_item_df.drop_duplicates(subset=['Name','Rating'])\n",
        "  \n",
        "  # shortlisted_item_df = shortlisted_item_df[shortlisted_item_df['Rating']>=predicted_rating]\n",
        "  shortlisted_item_df = item_df[item_df['Rating']>=predicted_rating].drop_duplicates(subset=['Rating'])\n",
        "  \n",
        "\n",
        "  return shortlisted_item_df[['MovieID','Rating']]\n",
        "  "
      ],
      "metadata": {
        "id": "CsXSWIaLkkm3"
      },
      "execution_count": 30,
      "outputs": []
    },
    {
      "cell_type": "code",
      "source": [
        "matching_recommendations = matching_actuals_or_recommendations(predicted_item_id,predicted_rating,item_df)\n",
        "\n",
        "# for recommendation in matching_recommendations:\n",
        "#   print(recommendation)\n",
        "\n",
        "predictions_df = pd.DataFrame(matching_recommendations)\n",
        "\n",
        "#Convert rating column to float\n",
        "predictions_df['Rating'] = predictions_df['Rating'].astype(float)\n",
        "\n",
        "print(len(predictions_df))"
      ],
      "metadata": {
        "colab": {
          "base_uri": "https://localhost:8080/"
        },
        "id": "Kl8_EDOW8f2o",
        "outputId": "cef59259-04a6-4d7c-b0a8-3f93a1327d7a"
      },
      "execution_count": 37,
      "outputs": [
        {
          "output_type": "stream",
          "name": "stdout",
          "text": [
            "18\n"
          ]
        }
      ]
    },
    {
      "cell_type": "code",
      "source": [
        "matching_actuals = matching_actuals_or_recommendations(expected_item_id,expected_rating,item_df)\n",
        "\n",
        "actuals_df = pd.DataFrame(matching_actuals)\n",
        "#Convert rating column to float\n",
        "actuals_df['Rating'] = actuals_df['Rating'].astype(float)\n",
        "\n",
        "print(len(actuals_df))"
      ],
      "metadata": {
        "colab": {
          "base_uri": "https://localhost:8080/"
        },
        "id": "_MgG794Qvcsq",
        "outputId": "d32b11d3-3b00-4244-ec14-4dc8012e2303"
      },
      "execution_count": 38,
      "outputs": [
        {
          "output_type": "stream",
          "name": "stdout",
          "text": [
            "5\n"
          ]
        }
      ]
    },
    {
      "cell_type": "code",
      "source": [
        "def precision_recall_f1_scores(predictions_df, actuals_df, k, rating_threshold):\n",
        "  sorted_predictions_df = predictions_df.sort_values(by='Rating', ascending=False)\n",
        "  sorted_actuals_df = actuals_df.sort_values(by='Rating', ascending=False)\n",
        "\n",
        "  # Number of relevant items\n",
        "  # n_rel = sum((true_r >= threshold) for (_, true_r) in user_ratings)\n",
        "  num_rel_items = len(sorted_actuals_df[sorted_actuals_df['Rating']>=rating_threshold])\n",
        "\n",
        "  print(\"Num of relevant items {}\".format(num_rel_items))\n",
        "\n",
        "  # Number of recommended items in top k\n",
        "  # n_rec_k = sum((est >= threshold) for (est, _) in user_ratings[:k])\n",
        "  num_sorted_predictions =  len(sorted_predictions_df)\n",
        "  num_rec_k_items =  len(sorted_predictions_df[:k]) if num_sorted_predictions>=k else num_sorted_predictions\n",
        "\n",
        "  print(\"Num of recommended k items {}\".format(num_rec_k_items))\n",
        "\n",
        "  # Number of relevant and recommended items in top k\n",
        "  num_rel_and_rec_k_items = len(sorted_predictions_df[sorted_predictions_df['Rating']>=rating_threshold][:k]) if num_rec_k_items >= k else len(sorted_predictions_df[sorted_predictions_df['Rating']>=rating_threshold])\n",
        "  \n",
        "  print(\"Num of relevant and recommended k items {}\".format(num_rel_and_rec_k_items))\n",
        "\n",
        "  # Precision@K: Proportion of recommended items that are relevant\n",
        "  # When n_rec_k is 0, Precision is undefined. We here set it to 0.\n",
        "  precision = num_rel_and_rec_k_items / num_rec_k_items if num_rec_k_items != 0 else 0\n",
        "\n",
        "  # Recall@K: Proportion of relevant items that are recommended\n",
        "  # When n_rel is 0, Recall is undefined. We here set it to 0.\n",
        "\n",
        "  recall = num_rel_and_rec_k_items / num_rel_items if num_rel_items != 0 else 0\n",
        "\n",
        "\n",
        "  f1 = (2*precision*recall)/(precision+recall)\n",
        "  return precision, recall, f1, sorted_predictions_df[:k]"
      ],
      "metadata": {
        "id": "pmLgbqUGsjNp"
      },
      "execution_count": 87,
      "outputs": []
    },
    {
      "cell_type": "code",
      "source": [
        "k = 3\n",
        "precision, recall, f1, predictions_k = precision_recall_f1_scores(predictions_df, actuals_df, k, rating_threshold=expected_rating)\n",
        "\n",
        "print(\"Precision@{0}: {1}, Recall@{0}: {2} and F1@{0} Score: {3}\".format(k,precision,recall,f1))\n",
        "print(\"Expected Rating Threshold {0} and Predicted Ratings {1}\".format(expected_rating, predictions_k))"
      ],
      "metadata": {
        "id": "JAOwlQ6Rk5qq",
        "colab": {
          "base_uri": "https://localhost:8080/"
        },
        "outputId": "4eb0ad54-50f3-4373-f93f-274b0084a717"
      },
      "execution_count": 88,
      "outputs": [
        {
          "output_type": "stream",
          "name": "stdout",
          "text": [
            "Num of relevant items 5\n",
            "Num of recommended k items 3\n",
            "Num of relevant and recommended k items 3\n",
            "Precision@3: 1.0, Recall@3: 0.6 and F1@3 Score: 0.7499999999999999\n",
            "Expected Rating Threshold 4.5 and Predicted Ratings        MovieID  Rating\n",
            "0   B004MWZLYC     4.9\n",
            "2   B000VU4GW2     4.8\n",
            "18  B001JG5PJU     4.7\n"
          ]
        }
      ]
    },
    {
      "cell_type": "code",
      "source": [],
      "metadata": {
        "id": "O1GB4e1lkxCX"
      },
      "execution_count": null,
      "outputs": []
    }
  ]
}